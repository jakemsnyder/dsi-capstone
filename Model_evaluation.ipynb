{
 "cells": [
  {
   "cell_type": "markdown",
   "metadata": {},
   "source": [
    "## Load data "
   ]
  },
  {
   "cell_type": "code",
   "execution_count": 5,
   "metadata": {},
   "outputs": [],
   "source": [
    "import pandas as pd\n",
    "\n",
    "generic = pd.read_csv(\"Data/generic_mrp_results.csv\")\n",
    "specific = pd.read_csv(\"Data/specific_mrp_results.csv\")\n",
    "result = pd.read_csv(\"Data/2018_results.csv\", encoding=\"cp1252\")"
   ]
  },
  {
   "cell_type": "code",
   "execution_count": 6,
   "metadata": {},
   "outputs": [],
   "source": [
    "generic = generic[generic.Demographic_Type == 'District']\n",
    "specific = specific[specific.Demographic_Type == 'District']\n",
    "\n",
    "generic = generic.dropna()\n",
    "specific = specific.dropna()"
   ]
  },
  {
   "cell_type": "code",
   "execution_count": 7,
   "metadata": {},
   "outputs": [
    {
     "data": {
      "text/plain": [
       "((428, 3), (428, 3))"
      ]
     },
     "execution_count": 7,
     "metadata": {},
     "output_type": "execute_result"
    }
   ],
   "source": [
    "generic.shape, specific.shape"
   ]
  },
  {
   "cell_type": "code",
   "execution_count": 8,
   "metadata": {},
   "outputs": [],
   "source": [
    "assert sum(generic.Demographic == specific.Demographic)== 428"
   ]
  },
  {
   "cell_type": "markdown",
   "metadata": {},
   "source": [
    "## Preprocessing"
   ]
  },
  {
   "cell_type": "code",
   "execution_count": 9,
   "metadata": {},
   "outputs": [
    {
     "data": {
      "text/plain": [
       "(428, 2)"
      ]
     },
     "execution_count": 9,
     "metadata": {},
     "output_type": "execute_result"
    }
   ],
   "source": [
    "# select the results only with avaiable district \n",
    "\n",
    "result = result[result.Dist.isin(generic.Demographic)]\n",
    "result = result[['REP.', 'Dist']]\n",
    "result.shape"
   ]
  },
  {
   "cell_type": "code",
   "execution_count": 10,
   "metadata": {},
   "outputs": [],
   "source": [
    "# pickup available results \n",
    "\n",
    "result = result[result['REP.'] != '—']\n",
    "result = result[result['REP.'] != 'Unc.']"
   ]
  },
  {
   "cell_type": "code",
   "execution_count": 11,
   "metadata": {},
   "outputs": [
    {
     "data": {
      "text/plain": [
       "(388, 2)"
      ]
     },
     "execution_count": 11,
     "metadata": {},
     "output_type": "execute_result"
    }
   ],
   "source": [
    "# convert text to float\n",
    "\n",
    "result['REP.'] = result['REP.'].str.rstrip('%').astype('float')/100\n",
    "\n",
    "result.shape"
   ]
  },
  {
   "cell_type": "code",
   "execution_count": 12,
   "metadata": {},
   "outputs": [],
   "source": [
    "generic = generic[generic.Demographic.isin(result.Dist)]\n",
    "specific = specific[specific.Demographic.isin(result.Dist)]"
   ]
  },
  {
   "cell_type": "code",
   "execution_count": 13,
   "metadata": {},
   "outputs": [],
   "source": [
    "specific = specific.sort_values(by = ['Demographic'])\n",
    "generic = generic.sort_values(by = ['Demographic'])\n",
    "result = result.sort_values(by = ['Dist'])\n",
    "specific = specific.reset_index()\n",
    "generic = generic.reset_index()\n",
    "result = result.reset_index()"
   ]
  },
  {
   "cell_type": "code",
   "execution_count": 14,
   "metadata": {},
   "outputs": [],
   "source": [
    "y_g = generic.Vote_R\n",
    "y_s = specific.Vote_R\n",
    "y_r = result['REP.']"
   ]
  },
  {
   "cell_type": "markdown",
   "metadata": {},
   "source": [
    "## Model Comparison "
   ]
  },
  {
   "cell_type": "code",
   "execution_count": 15,
   "metadata": {},
   "outputs": [],
   "source": [
    "# Mean square error\n",
    "import numpy as np\n",
    "mse_g = np.mean((y_g - y_r)**2)\n",
    "mse_s = np.mean((y_s - y_r)**2)"
   ]
  },
  {
   "cell_type": "code",
   "execution_count": 16,
   "metadata": {},
   "outputs": [
    {
     "data": {
      "text/plain": [
       "(0.005918537234662504, 0.0047357923785882345)"
      ]
     },
     "execution_count": 16,
     "metadata": {},
     "output_type": "execute_result"
    }
   ],
   "source": [
    "mse_g, mse_s"
   ]
  },
  {
   "cell_type": "code",
   "execution_count": 17,
   "metadata": {},
   "outputs": [],
   "source": [
    "# accuracy, in terms of whether republican is a majority \n",
    "y_g_acc = np.where(y_g > 0.5, 1,0)\n",
    "y_s_acc = np.where(y_s > 0.5, 1,0)\n",
    "y_r_acc = np.where(y_r > 0.5, 1,0)"
   ]
  },
  {
   "cell_type": "code",
   "execution_count": 18,
   "metadata": {},
   "outputs": [],
   "source": [
    "accuracy_g = sum(y_g_acc == y_r_acc)/len(y_g)\n",
    "accuracy_s = sum(y_s_acc == y_r_acc)/len(y_g)"
   ]
  },
  {
   "cell_type": "code",
   "execution_count": 19,
   "metadata": {},
   "outputs": [
    {
     "data": {
      "text/plain": [
       "(0.8582474226804123, 0.8788659793814433)"
      ]
     },
     "execution_count": 19,
     "metadata": {},
     "output_type": "execute_result"
    }
   ],
   "source": [
    "accuracy_g, accuracy_s"
   ]
  },
  {
   "cell_type": "code",
   "execution_count": 24,
   "metadata": {},
   "outputs": [
    {
     "data": {
      "text/plain": [
       "(0.8776595744680851, 0.8723404255319149)"
      ]
     },
     "execution_count": 24,
     "metadata": {},
     "output_type": "execute_result"
    }
   ],
   "source": [
    "# precision score\n",
    "from sklearn.metrics import precision_score\n",
    "precision_g = precision_score(y_g_acc, y_r_acc)\n",
    "precision_s = precision_score(y_s_acc, y_r_acc)\n",
    "\n",
    "precision_g, precision_s"
   ]
  },
  {
   "cell_type": "code",
   "execution_count": 25,
   "metadata": {},
   "outputs": [
    {
     "data": {
      "text/plain": [
       "(0.8375634517766497, 0.8770053475935828)"
      ]
     },
     "execution_count": 25,
     "metadata": {},
     "output_type": "execute_result"
    }
   ],
   "source": [
    "# recall score\n",
    "from sklearn.metrics import recall_score\n",
    "recall_g = recall_score(y_g_acc, y_r_acc)\n",
    "recall_s = recall_score(y_s_acc, y_r_acc)\n",
    "\n",
    "recall_g, recall_s"
   ]
  },
  {
   "cell_type": "code",
   "execution_count": 26,
   "metadata": {},
   "outputs": [
    {
     "data": {
      "text/plain": [
       "(0.8571428571428572, 0.8746666666666667)"
      ]
     },
     "execution_count": 26,
     "metadata": {},
     "output_type": "execute_result"
    }
   ],
   "source": [
    "# f1 score\n",
    "from sklearn.metrics import f1_score\n",
    "f1_g = f1_score(y_g_acc, y_r_acc)\n",
    "f1_s = f1_score(y_s_acc, y_r_acc)\n",
    "\n",
    "f1_g, f1_s"
   ]
  },
  {
   "cell_type": "code",
   "execution_count": 84,
   "metadata": {},
   "outputs": [],
   "source": [
    "Comparison = {'Model':['generic', 'specific'],\n",
    "              'Accuracy':[accuracy_g, accuracy_s],\n",
    "              'MSE':[mse_g, mse_s],\n",
    "             'Precision':[precision_g, precision_s],\n",
    "             'Recall':[recall_g, recall_s],\n",
    "             'f1':[f1_g, f1_s]}\n",
    "\n",
    "df = pd.DataFrame(Comparison)"
   ]
  },
  {
   "cell_type": "code",
   "execution_count": 86,
   "metadata": {},
   "outputs": [],
   "source": [
    "df.to_csv(\"Model_comparison.csv\")"
   ]
  },
  {
   "cell_type": "markdown",
   "metadata": {},
   "source": [
    "## Calibration and callibration plot"
   ]
  },
  {
   "cell_type": "markdown",
   "metadata": {},
   "source": [
    "A probabilistic model is calibrated if I binned the test samples based on their predicted probabilities, each bin’s true outcomes has a proportion close to the probabilities in the bin."
   ]
  },
  {
   "cell_type": "code",
   "execution_count": 78,
   "metadata": {},
   "outputs": [],
   "source": [
    "from sklearn.calibration import calibration_curve\n",
    "\n",
    "general_x, general_y = calibration_curve(y_r_acc, y_g, n_bins = 10)\n",
    "specific_x, specific_y = calibration_curve(y_r_acc, y_s, n_bins = 10)"
   ]
  },
  {
   "cell_type": "code",
   "execution_count": 87,
   "metadata": {},
   "outputs": [
    {
     "data": {
      "image/png": "[encoded data removed]",
      "text/plain": [
       "<Figure size 576x576 with 1 Axes>"
      ]
     },
     "metadata": {},
     "output_type": "display_data"
    }
   ],
   "source": [
    "%matplotlib inline\n",
    "import matplotlib.pyplot as plt\n",
    "import matplotlib.lines as mlines\n",
    "import matplotlib.transforms as mtransforms\n",
    "\n",
    "fig, ax = plt.subplots(figsize = (8,8))\n",
    "# only these two lines are calibration curves\n",
    "plt.plot(general_x, general_y, marker='o', linewidth=1, label='general')\n",
    "plt.plot(specific_x, specific_y, marker='o', linewidth=1, label='specific')\n",
    "\n",
    "# reference line, legends, and axis labels\n",
    "line = mlines.Line2D([0, 1], [0, 1], color='black')\n",
    "transform = ax.transAxes\n",
    "line.set_transform(transform)\n",
    "ax.add_line(line)\n",
    "fig.suptitle('Calibration curve comparison')\n",
    "ax.set_xlabel('Predicted probability')\n",
    "ax.set_ylabel('True probability in each bin')\n",
    "fig.subplots_adjust(top=0.94)\n",
    "plt.legend()\n",
    "plt.show()"
   ]
  },
  {
   "cell_type": "code",
   "execution_count": 89,
   "metadata": {},
   "outputs": [],
   "source": [
    "fig.savefig(\"Calibration_comparison.jpg\")"
   ]
  },
  {
   "cell_type": "code",
   "execution_count": null,
   "metadata": {},
   "outputs": [],
   "source": []
  },
  {
   "cell_type": "code",
   "execution_count": null,
   "metadata": {},
   "outputs": [],
   "source": []
  },
  {
   "cell_type": "code",
   "execution_count": 20,
   "metadata": {},
   "outputs": [],
   "source": [
    "Comparison = {'Model':['generic', 'specific'],\n",
    "              'Accuracy':[accuracy_g, accuracy_s],\n",
    "              'MSE':[mse_g, mse_s]}\n",
    "\n",
    "df = pd.DataFrame(Comparison)"
   ]
  }
 ],
 "metadata": {
  "kernelspec": {
   "display_name": "Python 3",
   "language": "python",
   "name": "python3"
  },
  "language_info": {
   "codemirror_mode": {
    "name": "ipython",
    "version": 3
   },
   "file_extension": ".py",
   "mimetype": "text/x-python",
   "name": "python",
   "nbconvert_exporter": "python",
   "pygments_lexer": "ipython3",
   "version": "3.6.5"
  }
 },
 "nbformat": 4,
 "nbformat_minor": 2
}
